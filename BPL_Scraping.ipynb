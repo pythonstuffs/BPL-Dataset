{
 "cells": [
  {
   "cell_type": "code",
   "execution_count": null,
   "metadata": {},
   "outputs": [],
   "source": [
    "\n",
    "#DataSet is available in below link\n",
    "#http://stats.espncricinfo.com/ci/engine/records/team/series_results.html?id=159;type=trophy\n"
   ]
  },
  {
   "cell_type": "code",
   "execution_count": 1,
   "metadata": {},
   "outputs": [],
   "source": [
    "from selenium import webdriver\n",
    "from selenium.webdriver.common.keys import Keys\n",
    "from bs4 import BeautifulSoup\n",
    "import re\n",
    "import pandas as pd\n",
    "import os\n",
    "import time\n",
    "import logging"
   ]
  },
  {
   "cell_type": "code",
   "execution_count": 2,
   "metadata": {},
   "outputs": [],
   "source": [
    "def LaunchURL(URL):\n",
    "    # create a new Firefox session\n",
    "    driver1 = webdriver.Firefox(executable_path=r'C:\\Users\\shubh\\Jupyter\\BPL\\geckodriver.exe')\n",
    "    driver1.implicitly_wait(10)\n",
    "    driver1.get(URL)\n",
    "    return driver1"
   ]
  },
  {
   "cell_type": "code",
   "execution_count": 3,
   "metadata": {},
   "outputs": [],
   "source": [
    "def SeriesPage(driver):\n",
    "    return driver.find_elements_by_class_name('data-link')"
   ]
  },
  {
   "cell_type": "code",
   "execution_count": 4,
   "metadata": {},
   "outputs": [],
   "source": [
    "def AllMatchDetails(driver):\n",
    "    return driver.find_elements_by_class_name('potMatchLink')"
   ]
  },
  {
   "cell_type": "code",
   "execution_count": 5,
   "metadata": {},
   "outputs": [],
   "source": [
    "def RedirectToCommetry(driver, Inning):\n",
    "    NewURL = driver.current_url\n",
    "    NewURL = NewURL.replace('/scorecard/','/commentary/')+'?innings=' +  str(Inning)\n",
    "    driver.get(NewURL)\n",
    "    return driver\n"
   ]
  },
  {
   "cell_type": "code",
   "execution_count": 6,
   "metadata": {},
   "outputs": [],
   "source": [
    "def FindDivElement(driver):\n",
    "    Frame = driver.find_element_by_id('pane-main')\n",
    "    Frame2 = Frame.find_element_by_id('main-container')\n",
    "    return Frame2.find_elements_by_class_name('main-content')[0]"
   ]
  },
  {
   "cell_type": "code",
   "execution_count": 7,
   "metadata": {},
   "outputs": [],
   "source": [
    "def BatingTeamName(driver):\n",
    "    return driver.find_elements_by_tag_name('button')[0].get_property('innerText')"
   ]
  },
  {
   "cell_type": "code",
   "execution_count": 8,
   "metadata": {},
   "outputs": [],
   "source": [
    "def OppositionTeam(driver,Inning):\n",
    "    \n",
    "    if Inning ==1:\n",
    "        return driver.find_elements_by_class_name('react-router-link')[13].get_property('innerText')\n",
    "    else:\n",
    "        return driver.find_elements_by_class_name('react-router-link')[12].get_property('innerText')"
   ]
  },
  {
   "cell_type": "code",
   "execution_count": 9,
   "metadata": {},
   "outputs": [],
   "source": [
    "#launch url\n",
    "logging.basicConfig(filename=\"newfile.log\", \n",
    "                    format='%(asctime)s %(message)s', \n",
    "                    filemode='w')\n",
    "logger=logging.getLogger() \n",
    "logger.setLevel(logging.DEBUG)\n",
    "url = \"http://stats.espncricinfo.com/ci/engine/records/team/series_results.html?id=159;type=trophy\"\n",
    "logger.info(url)\n",
    "driverMain = LaunchURL(url)\n",
    "logger.info(\"Main Thead Opened\")"
   ]
  },
  {
   "cell_type": "code",
   "execution_count": 22,
   "metadata": {},
   "outputs": [
    {
     "name": "stdout",
     "output_type": "stream",
     "text": [
      "-------------------------------------Bangladesh Premier League\n",
      "['19.6\\t', '6', 'Yasir Arafat to Styris, SIX runs,']\n",
      "19.6\t\n",
      "6\n",
      "Yasir Arafat to Styris, SIX runs,\n"
     ]
    }
   ],
   "source": [
    "# get All Session data \n",
    "data = []\n",
    "matchNumber =0\n",
    "SeriesLinks = SeriesPage(driverMain)\n",
    "logger.info(\"SeriesData Page Opened\")\n",
    "for EachSeries in SeriesLinks[8:]:\n",
    "    #click on Each Series\n",
    "    print ('-------------------------------------' + str(EachSeries.get_property('innerText')))\n",
    "    logger.info(str(EachSeries.get_property('innerText') + \" Series Started\"))\n",
    "    #EachSeries.click()\n",
    "    SessionURL = EachSeries.get_attribute('href')\n",
    "    driver = LaunchURL(SessionURL)\n",
    "    logger.info (\"New Thread Open\")\n",
    "    MatchLinks = AllMatchDetails(driver)\n",
    "    for match in MatchLinks:\n",
    "        # Click on Each Match\n",
    "        #print (match.find_element_by_tag_name('a').get_attribute('href'))\n",
    "        #match.click()\n",
    "        #time.sleep(0.5)\n",
    "        #matchURL = driver.current_url\n",
    "        #try:\n",
    "        matchNumber += 1\n",
    "        driverTemp = LaunchURL(match.find_element_by_tag_name('a').get_attribute('href'))\n",
    "        #driver.execute_script('window.history.go(-1)')\n",
    "        # Re Direct to Commetry Tab\n",
    "        Ground = driverTemp.find_elements_by_class_name('stadium-details')[0].get_property('innerText')\n",
    "        for Inning in range(1,3):\n",
    "        \n",
    "\n",
    "            driverTemp = RedirectToCommetry(driverTemp, Inning)\n",
    "            time.sleep(0.2)\n",
    "            logger.info(str(match.find_element_by_tag_name('a').get_property('innerText'))+ \" Opened in new thread\")\n",
    "            #Scroll Down\n",
    "            #ScrollDown(driver)\n",
    "\n",
    "            # Find Main Div Element\n",
    "            div = FindDivElement(driverTemp)\n",
    "            blnTaskComplete =False\n",
    "            SCROLL_PAUSE_TIME = 0.5\n",
    "            for i in range (0,15):\n",
    "                html = driverTemp.find_element_by_tag_name('html')\n",
    "                time.sleep(0.2)\n",
    "                html.send_keys(Keys.END)\n",
    "                time.sleep(0.2)\n",
    "                html.send_keys(Keys.UP)\n",
    "                time.sleep(0.2)\n",
    "                html.send_keys(Keys.END)\n",
    "            # get End Over Details\n",
    "            # div.find_elements_by_tag_name('h4')\n",
    "            # get Each Ball Details\n",
    "\n",
    "            div = FindDivElement(driverTemp)\n",
    "            for eachball in div.find_elements_by_class_name('commentary-item'):\n",
    "                record = eachball.get_property('innerText')\n",
    "                if ' to ' in record:\n",
    "                    if str(str(record.splitlines()[0]).replace(\" \",\"\")[0]).isnumeric():\n",
    "                        tempdata = str(matchNumber) + '\\n' + Ground + '\\n' + str(Inning) + '\\n'+ BatingTeamName(div) + '\\n'+ OppositionTeam(div,Inning) + '\\n' + record\n",
    "                        #print (tempdata)\n",
    "                        data.append (tempdata.splitlines())\n",
    "                        logger.info (\"Data Extracted\" + str(record))\n",
    "                    else:\n",
    "                        tempLine=''\n",
    "                        print (record.split('\\n') [2:])\n",
    "                        for words in record.split('\\n') [2:]:\n",
    "                            if len(tempLine)==0:\n",
    "                                tempLine = words\n",
    "                            else:\n",
    "                                tempLine += '\\n' + words\n",
    "                        print (tempLine)\n",
    "                        tempdata = str(matchNumber) + '\\n' + Ground + '\\n' + str(Inning) + '\\n'+ BatingTeamName(div) + '\\n'+ OppositionTeam(div,Inning) + '\\n' + tempLine\n",
    "                        #print (tempdata.splitlines()[2:])\n",
    "                        data.append (tempdata.splitlines())\n",
    "\n",
    "                        logger.info (\"Data Extracted from 2nd element\" + str(record))\n",
    "        driverTemp.close()\n",
    "    driver.close()\n",
    "    \n",
    "        #except:\n",
    "            #logger.info (\"Error Occured and passed\")\n",
    "            #pass\n",
    "logger.info (\"Data Appened into DataFrame\")\n",
    "df = pd.DataFrame(data=data)\n",
    "df.to_csv('BPL.csv')                \n",
    "\n",
    "logger.info (\"Data Saved\")"
   ]
  },
  {
   "cell_type": "code",
   "execution_count": 41,
   "metadata": {},
   "outputs": [
    {
     "data": {
      "text/plain": [
       "'Royal Innings'"
      ]
     },
     "execution_count": 41,
     "metadata": {},
     "output_type": "execute_result"
    }
   ],
   "source": [
    "div.find_elements_by_tag_name('button')[0].get_property('innerText')"
   ]
  },
  {
   "cell_type": "code",
   "execution_count": 56,
   "metadata": {},
   "outputs": [
    {
     "data": {
      "text/plain": [
       "'Burnr Innings'"
      ]
     },
     "execution_count": 56,
     "metadata": {},
     "output_type": "execute_result"
    }
   ],
   "source": [
    "div.find_elements_by_class_name('react-router-link')[13].get_property('innerText')"
   ]
  },
  {
   "cell_type": "code",
   "execution_count": 76,
   "metadata": {},
   "outputs": [
    {
     "data": {
      "text/plain": [
       "['c', 'd', 'e', 'f']"
      ]
     },
     "execution_count": 76,
     "metadata": {},
     "output_type": "execute_result"
    }
   ],
   "source": [
    "a =\"a,b,c,d,e,f\"\n",
    "a.split(\",\")[2:]"
   ]
  },
  {
   "cell_type": "code",
   "execution_count": null,
   "metadata": {},
   "outputs": [],
   "source": []
  }
 ],
 "metadata": {
  "kernelspec": {
   "display_name": "Python 3",
   "language": "python",
   "name": "python3"
  },
  "language_info": {
   "codemirror_mode": {
    "name": "ipython",
    "version": 3
   },
   "file_extension": ".py",
   "mimetype": "text/x-python",
   "name": "python",
   "nbconvert_exporter": "python",
   "pygments_lexer": "ipython3",
   "version": "3.7.3"
  }
 },
 "nbformat": 4,
 "nbformat_minor": 2
}
