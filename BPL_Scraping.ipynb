{
 "cells": [
  {
   "cell_type": "code",
   "execution_count": null,
   "metadata": {},
   "outputs": [],
   "source": [
    "\n",
    "#DataSet is available in below link\n",
    "#http://stats.espncricinfo.com/ci/engine/records/team/series_results.html?id=159;type=trophy\n"
   ]
  },
  {
   "cell_type": "code",
   "execution_count": 1,
   "metadata": {},
   "outputs": [],
   "source": [
    "from selenium import webdriver\n",
    "from selenium.webdriver.common.keys import Keys\n",
    "from bs4 import BeautifulSoup\n",
    "import re\n",
    "import pandas as pd\n",
    "import os\n",
    "import time"
   ]
  },
  {
   "cell_type": "code",
   "execution_count": 27,
   "metadata": {},
   "outputs": [],
   "source": [
    "def LaunchURL(URL):\n",
    "    # create a new Firefox session\n",
    "    driver1 = webdriver.Firefox(executable_path=r'C:\\Users\\shubh\\Jupyter\\BPL\\geckodriver.exe')\n",
    "    driver1.implicitly_wait(10)\n",
    "    driver1.get(URL)\n",
    "    return driver1"
   ]
  },
  {
   "cell_type": "code",
   "execution_count": 28,
   "metadata": {},
   "outputs": [],
   "source": [
    "def SeriesPage(driver):\n",
    "    return driver.find_elements_by_class_name('data-link')"
   ]
  },
  {
   "cell_type": "code",
   "execution_count": 29,
   "metadata": {},
   "outputs": [],
   "source": [
    "def AllMatchDetails(driver):\n",
    "    return driver.find_elements_by_class_name('potMatchLink')"
   ]
  },
  {
   "cell_type": "code",
   "execution_count": 30,
   "metadata": {},
   "outputs": [],
   "source": [
    "def RedirectToCommetry(driver, Inning):\n",
    "    NewURL = driver.current_url\n",
    "    NewURL = NewURL.replace('/scorecard/','/commentary/')+'?innings=' +  str(Inning)\n",
    "    driver.get(NewURL)\n",
    "    return driver\n"
   ]
  },
  {
   "cell_type": "code",
   "execution_count": 31,
   "metadata": {},
   "outputs": [],
   "source": [
    "def FindDivElement(driver):\n",
    "    Frame = driver.find_element_by_id('pane-main')\n",
    "    Frame2 = Frame.find_element_by_id('main-container')\n",
    "    return Frame2.find_elements_by_class_name('main-content')[0]"
   ]
  },
  {
   "cell_type": "code",
   "execution_count": 48,
   "metadata": {},
   "outputs": [],
   "source": [
    "#launch url\n",
    "url = \"http://stats.espncricinfo.com/ci/engine/records/team/series_results.html?id=159;type=trophy\"\n",
    "driverMain = LaunchURL(url)"
   ]
  },
  {
   "cell_type": "code",
   "execution_count": null,
   "metadata": {},
   "outputs": [
    {
     "name": "stdout",
     "output_type": "stream",
     "text": [
      "-------------------------------------None\n"
     ]
    }
   ],
   "source": [
    "# get All Session data \n",
    "data = []\n",
    "SeriesLinks = SeriesPage(driverMain)\n",
    "for EachSeries in SeriesLinks:\n",
    "    #click on Each Series\n",
    "    print ('-------------------------------------' + str(EachSeries.get_attribute('innertext')))\n",
    "    \n",
    "    #EachSeries.click()\n",
    "    SessionURL = EachSeries.get_attribute('href')\n",
    "    driver = LaunchURL(SessionURL)\n",
    "    MatchLinks = AllMatchDetails(driver)\n",
    "    for match in MatchLinks:\n",
    "        # Click on Each Match\n",
    "        #print (match.find_element_by_tag_name('a').get_attribute('href'))\n",
    "        #match.click()\n",
    "        #time.sleep(0.5)\n",
    "        #matchURL = driver.current_url\n",
    "        try:\n",
    "            driverTemp = LaunchURL(match.find_element_by_tag_name('a').get_attribute('href'))\n",
    "            #driver.execute_script('window.history.go(-1)')\n",
    "            # Re Direct to Commetry Tab\n",
    "            for Inning in range(1,3):\n",
    "                driverTemp = RedirectToCommetry(driverTemp, Inning)\n",
    "                #Scroll Down\n",
    "                #ScrollDown(driver)\n",
    "\n",
    "                # Find Main Div Element\n",
    "                div = FindDivElement(driverTemp)\n",
    "                blnTaskComplete =False\n",
    "                SCROLL_PAUSE_TIME = 0.5\n",
    "                for i in range (0,15):\n",
    "                    html = driverTemp.find_element_by_tag_name('html')\n",
    "                    html.send_keys(Keys.END)\n",
    "                    time.sleep(SCROLL_PAUSE_TIME)\n",
    "                # get End Over Details\n",
    "                # div.find_elements_by_tag_name('h4')\n",
    "                # get Each Ball Details\n",
    "\n",
    "                div = FindDivElement(driverTemp)\n",
    "                for eachball in div.find_elements_by_class_name('commentary-item'):\n",
    "                    record = eachball.get_property('innerText')\n",
    "                    if ' to ' in record:\n",
    "                        if str(record.splitlines()[0]).isnumeric :\n",
    "                            data.append (record.splitlines())\n",
    "                        else:\n",
    "                            data.append (record.splitlines()[2:])\n",
    "            driverTemp.close()\n",
    "        except:\n",
    "            pass\n",
    "    df = pd.DataFrame(data=data)\n",
    "    df.to_csv('BPL.csv')                                "
   ]
  },
  {
   "cell_type": "code",
   "execution_count": null,
   "metadata": {},
   "outputs": [],
   "source": [
    "#https://www.espncricinfo.com/series/8653/scorecard/551045/barisal-burners-vs-sylhet-royals-1st-match-bangladesh-premier-league-2011-12\n",
    "#https://www.espncricinfo.com/series/8653/commentary/551045/barisal-burners-vs-sylhet-royals-1st-match-bangladesh-premier-league-2011-12"
   ]
  },
  {
   "cell_type": "code",
   "execution_count": null,
   "metadata": {},
   "outputs": [],
   "source": []
  },
  {
   "cell_type": "code",
   "execution_count": null,
   "metadata": {},
   "outputs": [],
   "source": []
  },
  {
   "cell_type": "code",
   "execution_count": null,
   "metadata": {},
   "outputs": [],
   "source": [
    "\n"
   ]
  },
  {
   "cell_type": "code",
   "execution_count": null,
   "metadata": {},
   "outputs": [],
   "source": [
    "div.find_elements_by_tag_name('h4')[5].get_property('innerText')"
   ]
  },
  {
   "cell_type": "code",
   "execution_count": null,
   "metadata": {},
   "outputs": [],
   "source": [
    "div.find_elements_by_class_name('commentary-item')[6].get_property('innerText')"
   ]
  }
 ],
 "metadata": {
  "kernelspec": {
   "display_name": "Python 3",
   "language": "python",
   "name": "python3"
  },
  "language_info": {
   "codemirror_mode": {
    "name": "ipython",
    "version": 3
   },
   "file_extension": ".py",
   "mimetype": "text/x-python",
   "name": "python",
   "nbconvert_exporter": "python",
   "pygments_lexer": "ipython3",
   "version": "3.7.3"
  }
 },
 "nbformat": 4,
 "nbformat_minor": 2
}
